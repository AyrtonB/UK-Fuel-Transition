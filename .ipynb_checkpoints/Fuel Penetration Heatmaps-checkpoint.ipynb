{
 "cells": [
  {
   "cell_type": "markdown",
   "metadata": {},
   "source": [
    "<br>\n",
    "\n",
    "#### Imports"
   ]
  },
  {
   "cell_type": "code",
   "execution_count": 1,
   "metadata": {},
   "outputs": [],
   "source": [
    "import pandas as pd\n",
    "import numpy as np\n",
    "\n",
    "import seaborn as sns\n",
    "import matplotlib.pyplot as plt\n",
    "import matplotlib.colors as mcolors\n",
    "import matplotlib.font_manager as fm\n",
    "from matplotlib.patches import Rectangle"
   ]
  },
  {
   "cell_type": "markdown",
   "metadata": {},
   "source": [
    "<br>\n",
    "\n",
    "#### Reading in Data"
   ]
  },
  {
   "cell_type": "code",
   "execution_count": null,
   "metadata": {},
   "outputs": [],
   "source": [
    "df_EI = pd.read_csv('data/EI.csv', parse_dates=['local_datetime'])\n",
    "df_EI['local_datetime'] = pd.DatetimeIndex(pd.to_datetime(df_EI['local_datetime'], utc=True)).tz_convert('Europe/London')\n",
    "df_EI = df_EI.set_index('local_datetime')\n",
    "df_EI.head()"
   ]
  },
  {
   "cell_type": "markdown",
   "metadata": {},
   "source": [
    "<br>\n",
    "\n",
    "#### Constructing Heatmap"
   ]
  },
  {
   "cell_type": "code",
   "execution_count": null,
   "metadata": {},
   "outputs": [],
   "source": [
    "def create_fuel_pct(df_EI, fuel, demand_col='demand'):\n",
    "    s_fuel_pct = 100*df_EI[fuel]/df_EI[demand_col]\n",
    "    \n",
    "    df_fuel_pct = pd.DataFrame({f'{fuel}_pct':s_fuel_pct})\n",
    "    \n",
    "    return df_fuel_pct\n",
    "\n",
    "df_coal_pct = create_fuel_pct(df_EI, 'coal')\n",
    "df_coal_pct.head()"
   ]
  },
  {
   "cell_type": "code",
   "execution_count": null,
   "metadata": {},
   "outputs": [],
   "source": []
  },
  {
   "cell_type": "code",
   "execution_count": null,
   "metadata": {},
   "outputs": [],
   "source": [
    "df_fuel_pct = df_coal_pct.resample('D').mean()\n",
    "df_fuel_pct['year'] = df_fuel_pct.index.year.astype(str)\n",
    "\n",
    "pd.DatetimeIndex(df_fuel_pct['year'] + '-01-01')"
   ]
  },
  {
   "cell_type": "code",
   "execution_count": null,
   "metadata": {},
   "outputs": [],
   "source": [
    "def df_fuel_pct_2_wide(df_fuel_pct, fuel, shift_NaNs=False):\n",
    "    df_fuel_pct['year'] = df_fuel_pct.index.year.astype(str)\n",
    "    df_fuel_pct['seconds'] = (df_fuel_pct.index - pd.DatetimeIndex(df_fuel_pct['year'] + '-01-01', tz='UTC').tz_convert('Europe/London')).total_seconds().astype(int)\n",
    "    df_fuel_pct['doy'] = df_fuel_pct.index.dayofyear\n",
    "\n",
    "    df_fuel_pct_wide = df_fuel_pct.pivot(index='year', columns='doy', values=f'{fuel}_pct')\n",
    "    \n",
    "    if shift_NaNs == True:\n",
    "        df_fuel_pct_wide = df_fuel_pct_wide.apply(lambda x: pd.Series(x.dropna().values), axis=1)\n",
    "    \n",
    "    return df_fuel_pct_wide\n",
    "\n",
    "df_coal_wide = df_fuel_pct_2_wide(df_coal_pct.resample('D').mean(), 'coal')\n",
    "df_coal_wide.head()"
   ]
  },
  {
   "cell_type": "code",
   "execution_count": null,
   "metadata": {},
   "outputs": [],
   "source": [
    "sns.heatmap(df_coal_wide, cmap='viridis')"
   ]
  },
  {
   "cell_type": "markdown",
   "metadata": {},
   "source": [
    "<br>\n",
    "\n",
    "#### Repeating Across Fuels\n",
    "\n",
    "In order to nicely format the x axis we'll need to determine when each month starts and assign it a label"
   ]
  },
  {
   "cell_type": "code",
   "execution_count": null,
   "metadata": {},
   "outputs": [],
   "source": [
    "def create_month_starts_names():\n",
    "    s_doy = pd.Series(index=pd.date_range('2018', '2019', freq='30T')).resample('D').mean()\n",
    "    s_doy.loc[:] = s_doy.index.dayofyear\n",
    "\n",
    "    month_starts = s_doy.groupby(s_doy.index.month).min() + 15\n",
    "    month_names = s_doy.index.month_name().unique()\n",
    "\n",
    "    return month_starts, month_names\n",
    "\n",
    "month_starts, month_names = create_month_starts_names()\n",
    "dict(zip(month_names, month_starts))"
   ]
  },
  {
   "cell_type": "code",
   "execution_count": null,
   "metadata": {},
   "outputs": [],
   "source": [
    "def make_colormap(seq):\n",
    "    \"\"\"Return a LinearSegmentedColormap\n",
    "    seq: a sequence of floats and RGB-tuples. The floats should be increasing\n",
    "    and in the interval (0,1).\n",
    "    \"\"\"\n",
    "    seq = [(None,) * 3, 0.0] + list(seq) + [1.0, (None,) * 3]\n",
    "    cdict = {'red': [], 'green': [], 'blue': []}\n",
    "    for i, item in enumerate(seq):\n",
    "        if isinstance(item, float):\n",
    "            r1, g1, b1 = seq[i - 1]\n",
    "            r2, g2, b2 = seq[i + 1]\n",
    "            cdict['red'].append([item, r1, r2])\n",
    "            cdict['green'].append([item, g1, g2])\n",
    "            cdict['blue'].append([item, b1, b2])\n",
    "    return mcolors.LinearSegmentedColormap('CustomMap', cdict)\n",
    "\n",
    "c = mcolors.ColorConverter().to_rgb\n",
    "rgb_2_color = lambda rgb_list: [elem/255 for elem in rgb_list]\n",
    "\n",
    "fuel_cmaps = {\n",
    "     'coal' : [rgb_2_color([0, 204, 68]), rgb_2_color([0, 204, 68]), 0.0001, c('white'), c('black')],\n",
    "     'gas' : [c('white'), c('lightcoral')],\n",
    "     'solar' : [c('white'), c('gold')],\n",
    "     'solar_multi' : [c('black'), c('midnightblue'), 0.33, c('midnightblue'), c('gold'), 0.66, c('gold'), c('yellow')],\n",
    "     'wind' : [c('white'), c('lightseagreen')],\n",
    "     'biomass' : [c('white'), c('brown')],\n",
    " }"
   ]
  },
  {
   "cell_type": "code",
   "execution_count": null,
   "metadata": {},
   "outputs": [],
   "source": [
    "df_fuel_pct = create_fuel_pct(df_EI, 'coal')\n",
    "df_fuel_wide = df_fuel_pct_2_wide(df_fuel_pct.resample('D').mean(), 'coal')\n",
    "\n",
    "plt.figure()\n",
    "df_fuel_wide['2015':].T.plot()"
   ]
  },
  {
   "cell_type": "code",
   "execution_count": null,
   "metadata": {},
   "outputs": [],
   "source": [
    "def plot_wide_fuel(df_fuel_wide, fuel, ax, bkg_c='white', cmap='viridis'):\n",
    "    ## Creating heatmap\n",
    "    sns.heatmap(df_fuel_wide, cmap=cmap, ax=ax, mask=df_fuel_wide.isnull(),\n",
    "                cbar_kws={'use_gridspec':False, 'shrink':0.5, 'location':'top', \n",
    "                          'anchor':(1, 0), 'format':'%.0f%%'})\n",
    "    \n",
    "    cbar = ax.collections[0].colorbar\n",
    "    cbar.ax.tick_params(labelsize=8, top=False, pad=0.05)\n",
    "            \n",
    "    ## Setting main and axis titles\n",
    "    ax.set_title(f\"{fuel.replace('_', ' ').title()}\", y=1.05, x=0.25, size=15)\n",
    "    ax.set_xlabel('')\n",
    "    ax.set_ylabel('')\n",
    "    \n",
    "    ## Formatting ticks\n",
    "    month_starts, month_names = create_month_starts_names()\n",
    "    ax.set_yticklabels(list(range(2009,2019+1)), fontsize=10)\n",
    "\n",
    "    ax.hlines(list(range(1, 11)), xmin=0, xmax=365, color=[bkg_c])\n",
    "    ax.tick_params(left=False, bottom=False, labelbottom=False, pad=0.5)\n",
    "        \n",
    "    return ax\n",
    "\n",
    "fuels = ['coal', 'gas', 'solar', 'wind']\n",
    "bkg_c = 'white'\n",
    "ax = dict()\n",
    "\n",
    "fig = plt.figure(figsize=(10, 10), facecolor=bkg_c, dpi=500)\n",
    "for i, fuel in enumerate(fuels):\n",
    "    ax[fuel] = plt.subplot(2, 2, i+1)\n",
    "\n",
    "for fuel in fuels:\n",
    "    ## Creating wide df for fuel\n",
    "    df_fuel_pct = create_fuel_pct(df_EI, fuel)\n",
    "    df_fuel_wide = df_fuel_pct_2_wide(df_fuel_pct.resample('D').mean(), fuel)\n",
    "    \n",
    "    ## Removing extra days caused by leap years\n",
    "    cols_2_drop = list(df_fuel_wide.columns[df_fuel_wide.isnull().sum()>1])\n",
    "    df_fuel_wide = df_fuel_wide.drop(columns=cols_2_drop)\n",
    "    \n",
    "    ## Plotting    \n",
    "    ax[fuel] = plot_wide_fuel(df_fuel_wide, fuel, ax[fuel], bkg_c, cmap=make_colormap(fuel_cmaps[fuel]))\n",
    " \n",
    "#fig.savefig('img/fuel_pct.png')"
   ]
  },
  {
   "cell_type": "code",
   "execution_count": null,
   "metadata": {},
   "outputs": [],
   "source": [
    "fig = plt.figure(dpi=500, figsize=(5, 5))\n",
    "ax = plt.subplot()\n",
    "\n",
    "for fuel in ['wind']:\n",
    "    ## Creating wide df for fuel\n",
    "    df_fuel_pct = create_fuel_pct(df_EI, fuel)\n",
    "    df_fuel_wide = df_fuel_pct_2_wide(df_fuel_pct.resample('D').mean(), fuel)\n",
    "    \n",
    "    ## Removing extra days caused by leap years\n",
    "    cols_2_drop = list(df_fuel_wide.columns[df_fuel_wide.isnull().sum()>1])\n",
    "    df_fuel_wide = df_fuel_wide.drop(columns=cols_2_drop)\n",
    "    \n",
    "    ## Plotting    \n",
    "    ax = plot_wide_fuel(df_fuel_wide, fuel, ax, bkg_c, cmap=make_colormap(fuel_cmaps[fuel]))\n",
    "    \n",
    "fig.savefig('img/wind.png')"
   ]
  },
  {
   "cell_type": "code",
   "execution_count": null,
   "metadata": {},
   "outputs": [],
   "source": []
  }
 ],
 "metadata": {
  "kernelspec": {
   "display_name": "Python 3",
   "language": "python",
   "name": "python3"
  },
  "language_info": {
   "codemirror_mode": {
    "name": "ipython",
    "version": 3
   },
   "file_extension": ".py",
   "mimetype": "text/x-python",
   "name": "python",
   "nbconvert_exporter": "python",
   "pygments_lexer": "ipython3",
   "version": "3.6.8"
  }
 },
 "nbformat": 4,
 "nbformat_minor": 4
}
